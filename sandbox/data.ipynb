{
 "cells": [
  {
   "cell_type": "code",
   "execution_count": 6,
   "metadata": {},
   "outputs": [],
   "source": [
    "import pandas as pd"
   ]
  },
  {
   "cell_type": "markdown",
   "metadata": {},
   "source": [
    "# Beijing AQ"
   ]
  },
  {
   "cell_type": "code",
   "execution_count": 7,
   "metadata": {
    "scrolled": false
   },
   "outputs": [],
   "source": [
    "df1 = pd.read_csv('data/beijing_201802_201803_aq.csv')\n",
    "df2 = pd.read_csv('data/beijing_17_18_aq.csv')\n",
    "stations = list(df1.groupby(by=\"stationId\").size().index)\n",
    "l = []\n",
    "for station in stations:\n",
    "    new = df1[df1.stationId==station]\n",
    "    old = df2[df2.stationId==station]\n",
    "    l.extend([old, new])\n",
    "beijing_aq = pd.concat(l)\n",
    "beijing_aq[\"utc_time\"] = pd.to_datetime(beijing_aq[\"utc_time\"])\n",
    "beijing_aq = beijing_aq.rename(columns={\"stationId\": \"station_id\"})"
   ]
  },
  {
   "cell_type": "markdown",
   "metadata": {},
   "source": [
    "# London AQ"
   ]
  },
  {
   "cell_type": "code",
   "execution_count": 8,
   "metadata": {},
   "outputs": [
    {
     "name": "stderr",
     "output_type": "stream",
     "text": [
      "/Users/wind/miniconda3/envs/python3.6/lib/python3.6/site-packages/IPython/core/interactiveshell.py:2785: DtypeWarning: Columns (0,1) have mixed types. Specify dtype option on import or set low_memory=False.\n",
      "  interactivity=interactivity, compiler=compiler, result=result)\n"
     ]
    }
   ],
   "source": [
    "df1 = pd.read_csv('data/London_historical_aqi_forecast_stations_20180331.csv', index_col=0)\n",
    "df2 = pd.read_csv('data/London_historical_aqi_other_stations_20180331.csv')\n",
    "df2 = df2.drop([\"Unnamed: 5\", \"Unnamed: 6\"], axis=1)\n",
    "df2 = df2.dropna(how=\"all\")\n",
    "df2 = df2[: -1]\n",
    "df2 = df2.rename(columns={\"Station_ID\": \"station_id\"})\n",
    "london_aq = pd.concat([df1, df2])\n",
    "london_aq = london_aq.rename(columns={\"MeasurementDateGMT\": \"utc_time\"})\n",
    "london_aq[\"utc_time\"] = pd.to_datetime(london_aq[\"utc_time\"])"
   ]
  },
  {
   "cell_type": "markdown",
   "metadata": {},
   "source": [
    "# Beijing grid meteorology"
   ]
  },
  {
   "cell_type": "code",
   "execution_count": 9,
   "metadata": {},
   "outputs": [],
   "source": [
    "df = pd.read_csv(\"data/Beijing_historical_meo_grid.csv\")"
   ]
  },
  {
   "cell_type": "code",
   "execution_count": 10,
   "metadata": {},
   "outputs": [],
   "source": [
    "beijing_meo = df.rename(columns={\n",
    "    \"stationName\": \"station_id\",\n",
    "    \"utc_time\": \"time\",\n",
    "    \"wind_speed/kph\": \"wind_speed\",\n",
    "})\n",
    "beijing_meo[\"time\"] = pd.to_datetime(beijing_meo[\"time\"])"
   ]
  },
  {
   "cell_type": "markdown",
   "metadata": {},
   "source": [
    "# London grid meteorology"
   ]
  },
  {
   "cell_type": "code",
   "execution_count": 11,
   "metadata": {},
   "outputs": [],
   "source": [
    "df = pd.read_csv(\"data/London_historical_meo_grid.csv\")"
   ]
  },
  {
   "cell_type": "code",
   "execution_count": 12,
   "metadata": {},
   "outputs": [],
   "source": [
    "london_meo = df.rename(columns={\n",
    "    \"stationName\": \"station_id\",\n",
    "    \"utc_time\": \"time\",\n",
    "    \"wind_speed/kph\": \"wind_speed\"\n",
    "})\n",
    "london_meo[\"time\"] = pd.to_datetime(london_meo[\"time\"])"
   ]
  },
  {
   "cell_type": "markdown",
   "metadata": {},
   "source": [
    "# APIs"
   ]
  },
  {
   "cell_type": "code",
   "execution_count": 13,
   "metadata": {
    "scrolled": false
   },
   "outputs": [],
   "source": [
    "import requests\n",
    "from io import StringIO\n",
    "\n",
    "\n",
    "def buildDataFrame(text):\n",
    "    text = StringIO(text)\n",
    "    df = pd.read_csv(text)\n",
    "    return df"
   ]
  },
  {
   "cell_type": "code",
   "execution_count": 24,
   "metadata": {},
   "outputs": [
    {
     "name": "stdout",
     "output_type": "stream",
     "text": [
      "<class 'pandas.core.frame.DataFrame'>\n",
      "RangeIndex: 665 entries, 0 to 664\n",
      "Data columns (total 5 columns):\n",
      "station_id    665 non-null object\n",
      "time          665 non-null datetime64[ns]\n",
      "PM2.5         644 non-null float64\n",
      "PM10          418 non-null float64\n",
      "O3            636 non-null float64\n",
      "dtypes: datetime64[ns](1), float64(3), object(1)\n",
      "memory usage: 26.1+ KB\n"
     ]
    }
   ],
   "source": [
    "def airQualityData(city=\"bj\", start=pd.Timestamp(\"2018-04-01 00:00:00\"),\n",
    "                        end=pd.Timestamp(\"2018-04-01 23:00:00\")):\n",
    "    if city == \"bj\":\n",
    "        target = [\"station_id\", \"time\", \"PM2.5\", \"PM10\", \"O3\"]\n",
    "    else:\n",
    "        target = [\"station_id\", \"time\", \"PM2.5\", \"PM10\"]\n",
    "    dic = {\n",
    "        \"PM25_Concentration\": \"PM2.5\",\n",
    "        \"PM10_Concentration\": \"PM10\",\n",
    "        \"O3_Concentration\": \"O3\",\n",
    "        \"PM10 (ug/m3)\": \"PM10\",\n",
    "        \"PM2.5 (ug/m3)\": \"PM2.5\",\n",
    "        \"utc_time\": \"time\",\n",
    "    }\n",
    "    mid = pd.Timestamp(\"2018-04-01 00:00:00\")\n",
    "    df1 = pd.DataFrame()\n",
    "    df2 = pd.DataFrame()\n",
    "    if end >= mid:\n",
    "        if (start >= mid):\n",
    "            s = start\n",
    "        else:\n",
    "            s = mid\n",
    "        url = 'https://biendata.com/competition/airquality/%s/%d-%d-%d-%d/%d-%d-%d-%d/2k0d1d8' % (city, s.year, s.month, s.day, s.hour, end.year, end.month, end.day, end.hour)\n",
    "        response = requests.get(url)\n",
    "        df1 = buildDataFrame(response.text)\n",
    "        df1 = df1.rename(columns=dic)\n",
    "        try:\n",
    "            df1 = df1[target]\n",
    "        except:\n",
    "            pass\n",
    "        try:\n",
    "            df1[\"time\"] = pd.to_datetime(df1[\"time\"])\n",
    "        except:\n",
    "            pass\n",
    "    if start < mid:\n",
    "        if city == \"bj\":\n",
    "            df2 = beijing_aq[(start <= beijing_aq[\"utc_time\"]) & (beijing_aq[\"utc_time\"] <= end)]\n",
    "        else:\n",
    "            df2 = london_aq[(start <= london_aq[\"utc_time\"]) & (london_aq[\"utc_time\"] <= end)]\n",
    "        df2 = df2.rename(columns=dic)\n",
    "        try:\n",
    "            df2 = df2[target]\n",
    "        except:\n",
    "            pass\n",
    "    df = pd.concat([df2, df1])\n",
    "    df = df.reset_index(drop=True)\n",
    "    if df.empty:\n",
    "        df = pd.DataFrame()\n",
    "    return df"
   ]
  },
  {
   "cell_type": "code",
   "execution_count": 23,
   "metadata": {
    "scrolled": false
   },
   "outputs": [],
   "source": [
    "def meteorologyGridData(city=\"bj\", start=pd.Timestamp(\"2018-04-01 00:00:00\"),\n",
    "                        end=pd.Timestamp(\"2018-04-01 23:00:00\")):\n",
    "    target = [\"station_id\", \"time\", \"temperature\", \"pressure\",\n",
    "              \"humidity\", \"wind_direction\", \"wind_speed\"]\n",
    "    mid = pd.Timestamp(\"2018-04-01 00:00:00\")\n",
    "    df1 = pd.DataFrame()\n",
    "    df2 = pd.DataFrame()\n",
    "    df3 = pd.DataFrame()\n",
    "    if end >= mid:\n",
    "        if (start >= mid):\n",
    "            s = start\n",
    "        else:\n",
    "            s = mid\n",
    "        url = 'https://biendata.com/competition/meteorology/%s_grid/%d-%d-%d-%d/%d-%d-%d-%d/2k0d1d8' % (city, s.year, s.month, s.day, s.hour, end.year, end.month, end.day, end.hour)\n",
    "        response = requests.get(url)\n",
    "        df1 = buildDataFrame(response.text)\n",
    "        try:\n",
    "            df1 = df1[target]\n",
    "        except:\n",
    "            pass\n",
    "        try:\n",
    "            df1[\"time\"] = pd.to_datetime(df1[\"time\"])\n",
    "        except:\n",
    "            pass\n",
    "    if start < mid:\n",
    "        if city == \"bj\":\n",
    "            df2 = beijing_meo[(start <= beijing_meo[\"time\"]) & (beijing_meo[\"time\"] <= end)]\n",
    "        else:\n",
    "            df2 = london_meo[(start <= london_meo[\"time\"]) & (london_meo[\"time\"] <= end)]\n",
    "        try:\n",
    "            df2 = df2[target]\n",
    "        except:\n",
    "            pass\n",
    "    df = pd.concat([df2, df1])\n",
    "    now = df[\"time\"].iloc[-1]\n",
    "    if now < end:\n",
    "        s = now - pd.Timedelta(1, unit=\"h\")\n",
    "        url = \"http://kdd.caiyunapp.com/competition/forecast/%s/%d-%d-%d-%d/2k0d1d8\" % (city, s.year, s.month, s.day, s.hour)\n",
    "        response = requests.get(url)\n",
    "        df3 = buildDataFrame(response.text)\n",
    "        df3 = df3.rename(columns={\"forecast_time\": \"time\"})\n",
    "        df3[\"time\"] = pd.to_datetime(df3[\"time\"])\n",
    "        df3 = df3[df3[\"time\"] > now]\n",
    "        try:\n",
    "            df3 = df3[target]\n",
    "        except:\n",
    "            pass\n",
    "    df = pd.concat([df, df3])\n",
    "    df = df.reset_index(drop=True)\n",
    "    if df.empty:\n",
    "        df = pd.DataFrame()\n",
    "    return df"
   ]
  },
  {
   "cell_type": "code",
   "execution_count": null,
   "metadata": {},
   "outputs": [],
   "source": []
  }
 ],
 "metadata": {
  "kernelspec": {
   "display_name": "Python 3",
   "language": "python",
   "name": "python3"
  },
  "language_info": {
   "codemirror_mode": {
    "name": "ipython",
    "version": 3
   },
   "file_extension": ".py",
   "mimetype": "text/x-python",
   "name": "python",
   "nbconvert_exporter": "python",
   "pygments_lexer": "ipython3",
   "version": "3.6.5"
  }
 },
 "nbformat": 4,
 "nbformat_minor": 2
}
