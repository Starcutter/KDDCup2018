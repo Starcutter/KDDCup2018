{
 "cells": [
  {
   "cell_type": "code",
   "execution_count": 1,
   "metadata": {},
   "outputs": [],
   "source": [
    "import os\n",
    "os.chdir(\"../\")"
   ]
  },
  {
   "cell_type": "code",
   "execution_count": 18,
   "metadata": {},
   "outputs": [],
   "source": [
    "from sklearn.ensemble import RandomForestRegressor\n",
    "from sklearn.datasets import make_regression\n",
    "import torch\n",
    "from torch.utils.data import Dataset, DataLoader\n",
    "from utils.dataset import *\n",
    "dataset = torch.load('data/dataset_bj.pt')"
   ]
  },
  {
   "cell_type": "code",
   "execution_count": 19,
   "metadata": {
    "scrolled": false
   },
   "outputs": [
    {
     "name": "stdout",
     "output_type": "stream",
     "text": [
      "(485, 5040) (485, 2520)\n"
     ]
    }
   ],
   "source": [
    "x = []\n",
    "y = []\n",
    "for i in range(0, len(dataset)):\n",
    "    aq, meo, meo_pred, yy = dataset[i]\n",
    "    aq = aq.reshape(-1)\n",
    "    meo = meo.reshape(-1)\n",
    "    meo_pred = meo.reshape(-1)\n",
    "    yy = yy.reshape(-1)\n",
    "    xx = np.concatenate([aq]) #, meo, meo_pred])\n",
    "    xx[np.isnan(xx)] = 0\n",
    "    yy[np.isnan(yy)] = 0\n",
    "    x.append(xx)\n",
    "    y.append(yy)\n",
    "x = np.vstack(x)\n",
    "y = np.vstack(y)\n",
    "print(x.shape, y.shape)"
   ]
  },
  {
   "cell_type": "code",
   "execution_count": 20,
   "metadata": {},
   "outputs": [
    {
     "name": "stdout",
     "output_type": "stream",
     "text": [
      "(480, 5040)\n"
     ]
    },
    {
     "data": {
      "text/plain": [
       "RandomForestRegressor(bootstrap=True, criterion='mse', max_depth=None,\n",
       "           max_features='auto', max_leaf_nodes=None,\n",
       "           min_impurity_decrease=0.0, min_impurity_split=None,\n",
       "           min_samples_leaf=1, min_samples_split=2,\n",
       "           min_weight_fraction_leaf=0.0, n_estimators=10, n_jobs=1,\n",
       "           oob_score=False, random_state=None, verbose=0, warm_start=False)"
      ]
     },
     "execution_count": 20,
     "metadata": {},
     "output_type": "execute_result"
    }
   ],
   "source": [
    "from sklearn.ensemble import RandomForestRegressor\n",
    "regr = RandomForestRegressor()\n",
    "\n",
    "train_x = x[0: 480,]\n",
    "train_y = y[0: 480,]\n",
    "test_x = x[480:,]\n",
    "test_y = y[480:,]\n",
    "print(train_x.shape)\n",
    "regr.fit(train_x, train_y)"
   ]
  },
  {
   "cell_type": "code",
   "execution_count": 23,
   "metadata": {
    "scrolled": false
   },
   "outputs": [
    {
     "name": "stdout",
     "output_type": "stream",
     "text": [
      "0.5626080284024566\n",
      "0.4799599387083968\n",
      "0.37377316935764227\n",
      "0.549942793356048\n",
      "0.7028456707708788\n"
     ]
    }
   ],
   "source": [
    "from utils.eval import SMAPE\n",
    "result = regr.predict(test_x)\n",
    "for r, g in zip(result, test_y):\n",
    "    r = r.reshape(-1, 3)\n",
    "    g = g.reshape(-1, 3)\n",
    "    print(SMAPE(r * dataset.aq_std + dataset.aq_mean, g * dataset.aq_std + dataset.aq_mean))"
   ]
  }
 ],
 "metadata": {
  "kernelspec": {
   "display_name": "Python 3",
   "language": "python",
   "name": "python3"
  },
  "language_info": {
   "codemirror_mode": {
    "name": "ipython",
    "version": 3
   },
   "file_extension": ".py",
   "mimetype": "text/x-python",
   "name": "python",
   "nbconvert_exporter": "python",
   "pygments_lexer": "ipython3",
   "version": "3.6.5"
  }
 },
 "nbformat": 4,
 "nbformat_minor": 2
}
